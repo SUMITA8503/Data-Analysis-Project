{
 "cells": [
  {
   "cell_type": "code",
   "execution_count": 1,
   "id": "b15fbae3-c1a5-442c-a02d-45aaeb14e314",
   "metadata": {},
   "outputs": [],
   "source": [
    "import pandas as pd\n",
    "import matplotlib.pyplot as plt\n",
    "import seaborn as sns\n",
    "\n",
    "# Data Cleaning\n",
    "# Load the dataset\n",
    "df = pd.read_csv('flower_dataset.csv')"
   ]
  },
  {
   "cell_type": "code",
   "execution_count": 2,
   "id": "0e3d0180-2cc1-4286-951e-437cfd47e1da",
   "metadata": {},
   "outputs": [
    {
     "data": {
      "text/html": [
       "<div>\n",
       "<style scoped>\n",
       "    .dataframe tbody tr th:only-of-type {\n",
       "        vertical-align: middle;\n",
       "    }\n",
       "\n",
       "    .dataframe tbody tr th {\n",
       "        vertical-align: top;\n",
       "    }\n",
       "\n",
       "    .dataframe thead th {\n",
       "        text-align: right;\n",
       "    }\n",
       "</style>\n",
       "<table border=\"1\" class=\"dataframe\">\n",
       "  <thead>\n",
       "    <tr style=\"text-align: right;\">\n",
       "      <th></th>\n",
       "      <th>species</th>\n",
       "      <th>size</th>\n",
       "      <th>fragrance</th>\n",
       "      <th>height_cm</th>\n",
       "    </tr>\n",
       "  </thead>\n",
       "  <tbody>\n",
       "    <tr>\n",
       "      <th>0</th>\n",
       "      <td>rose</td>\n",
       "      <td>medium</td>\n",
       "      <td>mild</td>\n",
       "      <td>48.55</td>\n",
       "    </tr>\n",
       "    <tr>\n",
       "      <th>1</th>\n",
       "      <td>shoeblack plant</td>\n",
       "      <td>medium</td>\n",
       "      <td>mild</td>\n",
       "      <td>147.07</td>\n",
       "    </tr>\n",
       "    <tr>\n",
       "      <th>2</th>\n",
       "      <td>shoeblack plant</td>\n",
       "      <td>medium</td>\n",
       "      <td>none</td>\n",
       "      <td>102.93</td>\n",
       "    </tr>\n",
       "    <tr>\n",
       "      <th>3</th>\n",
       "      <td>hibiscus</td>\n",
       "      <td>large</td>\n",
       "      <td>none</td>\n",
       "      <td>184.00</td>\n",
       "    </tr>\n",
       "    <tr>\n",
       "      <th>4</th>\n",
       "      <td>shoeblack plant</td>\n",
       "      <td>large</td>\n",
       "      <td>mild</td>\n",
       "      <td>83.07</td>\n",
       "    </tr>\n",
       "  </tbody>\n",
       "</table>\n",
       "</div>"
      ],
      "text/plain": [
       "           species    size fragrance  height_cm\n",
       "0             rose  medium      mild      48.55\n",
       "1  shoeblack plant  medium      mild     147.07\n",
       "2  shoeblack plant  medium      none     102.93\n",
       "3         hibiscus   large      none     184.00\n",
       "4  shoeblack plant   large      mild      83.07"
      ]
     },
     "execution_count": 2,
     "metadata": {},
     "output_type": "execute_result"
    }
   ],
   "source": [
    "df.head()"
   ]
  },
  {
   "cell_type": "code",
   "execution_count": 3,
   "id": "e8b0647d-b9ce-459c-a283-78bb231e5755",
   "metadata": {},
   "outputs": [
    {
     "name": "stdout",
     "output_type": "stream",
     "text": [
      "<class 'pandas.core.frame.DataFrame'>\n",
      "RangeIndex: 10000 entries, 0 to 9999\n",
      "Data columns (total 4 columns):\n",
      " #   Column     Non-Null Count  Dtype  \n",
      "---  ------     --------------  -----  \n",
      " 0   species    10000 non-null  object \n",
      " 1   size       10000 non-null  object \n",
      " 2   fragrance  10000 non-null  object \n",
      " 3   height_cm  10000 non-null  float64\n",
      "dtypes: float64(1), object(3)\n",
      "memory usage: 312.6+ KB\n"
     ]
    }
   ],
   "source": [
    "df.info()"
   ]
  },
  {
   "cell_type": "code",
   "execution_count": 4,
   "id": "74a1c6c1-d76e-4e70-bb8f-823c5aeb7507",
   "metadata": {},
   "outputs": [
    {
     "data": {
      "text/plain": [
       "(10000, 4)"
      ]
     },
     "execution_count": 4,
     "metadata": {},
     "output_type": "execute_result"
    }
   ],
   "source": [
    "df.shape"
   ]
  },
  {
   "cell_type": "code",
   "execution_count": 5,
   "id": "b86e355e-f1b8-4b75-9b45-8d891f336d0d",
   "metadata": {},
   "outputs": [
    {
     "data": {
      "text/plain": [
       "species      0\n",
       "size         0\n",
       "fragrance    0\n",
       "height_cm    0\n",
       "dtype: int64"
      ]
     },
     "execution_count": 5,
     "metadata": {},
     "output_type": "execute_result"
    }
   ],
   "source": [
    "# Missing values\n",
    "missing_count = df.isnull().sum()\n",
    "missing_count"
   ]
  },
  {
   "cell_type": "code",
   "execution_count": 6,
   "id": "5c073d7f-4875-4806-a81c-536244df2e46",
   "metadata": {},
   "outputs": [
    {
     "data": {
      "text/plain": [
       "0       False\n",
       "1       False\n",
       "2       False\n",
       "3       False\n",
       "4       False\n",
       "        ...  \n",
       "9995    False\n",
       "9996    False\n",
       "9997     True\n",
       "9998     True\n",
       "9999    False\n",
       "Length: 10000, dtype: bool"
      ]
     },
     "execution_count": 6,
     "metadata": {},
     "output_type": "execute_result"
    }
   ],
   "source": [
    "df.duplicated()"
   ]
  },
  {
   "cell_type": "code",
   "execution_count": 7,
   "id": "2c85d78b-e224-4a9f-84e4-8a7b9ff0bcce",
   "metadata": {},
   "outputs": [
    {
     "data": {
      "text/html": [
       "<div>\n",
       "<style scoped>\n",
       "    .dataframe tbody tr th:only-of-type {\n",
       "        vertical-align: middle;\n",
       "    }\n",
       "\n",
       "    .dataframe tbody tr th {\n",
       "        vertical-align: top;\n",
       "    }\n",
       "\n",
       "    .dataframe thead th {\n",
       "        text-align: right;\n",
       "    }\n",
       "</style>\n",
       "<table border=\"1\" class=\"dataframe\">\n",
       "  <thead>\n",
       "    <tr style=\"text-align: right;\">\n",
       "      <th></th>\n",
       "      <th>species</th>\n",
       "      <th>size</th>\n",
       "      <th>fragrance</th>\n",
       "      <th>height_cm</th>\n",
       "    </tr>\n",
       "  </thead>\n",
       "  <tbody>\n",
       "    <tr>\n",
       "      <th>0</th>\n",
       "      <td>rose</td>\n",
       "      <td>medium</td>\n",
       "      <td>mild</td>\n",
       "      <td>48.55</td>\n",
       "    </tr>\n",
       "    <tr>\n",
       "      <th>1</th>\n",
       "      <td>shoeblack plant</td>\n",
       "      <td>medium</td>\n",
       "      <td>mild</td>\n",
       "      <td>147.07</td>\n",
       "    </tr>\n",
       "    <tr>\n",
       "      <th>2</th>\n",
       "      <td>shoeblack plant</td>\n",
       "      <td>medium</td>\n",
       "      <td>none</td>\n",
       "      <td>102.93</td>\n",
       "    </tr>\n",
       "    <tr>\n",
       "      <th>3</th>\n",
       "      <td>hibiscus</td>\n",
       "      <td>large</td>\n",
       "      <td>none</td>\n",
       "      <td>184.00</td>\n",
       "    </tr>\n",
       "    <tr>\n",
       "      <th>4</th>\n",
       "      <td>shoeblack plant</td>\n",
       "      <td>large</td>\n",
       "      <td>mild</td>\n",
       "      <td>83.07</td>\n",
       "    </tr>\n",
       "    <tr>\n",
       "      <th>...</th>\n",
       "      <td>...</td>\n",
       "      <td>...</td>\n",
       "      <td>...</td>\n",
       "      <td>...</td>\n",
       "    </tr>\n",
       "    <tr>\n",
       "      <th>9992</th>\n",
       "      <td>hibiscus</td>\n",
       "      <td>large</td>\n",
       "      <td>none</td>\n",
       "      <td>152.35</td>\n",
       "    </tr>\n",
       "    <tr>\n",
       "      <th>9994</th>\n",
       "      <td>rose</td>\n",
       "      <td>small</td>\n",
       "      <td>mild</td>\n",
       "      <td>87.69</td>\n",
       "    </tr>\n",
       "    <tr>\n",
       "      <th>9995</th>\n",
       "      <td>hibiscus</td>\n",
       "      <td>large</td>\n",
       "      <td>none</td>\n",
       "      <td>109.52</td>\n",
       "    </tr>\n",
       "    <tr>\n",
       "      <th>9996</th>\n",
       "      <td>shoeblack plant</td>\n",
       "      <td>medium</td>\n",
       "      <td>mild</td>\n",
       "      <td>145.23</td>\n",
       "    </tr>\n",
       "    <tr>\n",
       "      <th>9999</th>\n",
       "      <td>rose</td>\n",
       "      <td>medium</td>\n",
       "      <td>mild</td>\n",
       "      <td>88.11</td>\n",
       "    </tr>\n",
       "  </tbody>\n",
       "</table>\n",
       "<p>9187 rows × 4 columns</p>\n",
       "</div>"
      ],
      "text/plain": [
       "              species    size fragrance  height_cm\n",
       "0                rose  medium      mild      48.55\n",
       "1     shoeblack plant  medium      mild     147.07\n",
       "2     shoeblack plant  medium      none     102.93\n",
       "3            hibiscus   large      none     184.00\n",
       "4     shoeblack plant   large      mild      83.07\n",
       "...               ...     ...       ...        ...\n",
       "9992         hibiscus   large      none     152.35\n",
       "9994             rose   small      mild      87.69\n",
       "9995         hibiscus   large      none     109.52\n",
       "9996  shoeblack plant  medium      mild     145.23\n",
       "9999             rose  medium      mild      88.11\n",
       "\n",
       "[9187 rows x 4 columns]"
      ]
     },
     "execution_count": 7,
     "metadata": {},
     "output_type": "execute_result"
    }
   ],
   "source": [
    "df.drop_duplicates()  "
   ]
  },
  {
   "cell_type": "code",
   "execution_count": 8,
   "id": "07de8283-c0ac-43ab-b251-8e37fb57899e",
   "metadata": {},
   "outputs": [
    {
     "data": {
      "text/html": [
       "<div>\n",
       "<style scoped>\n",
       "    .dataframe tbody tr th:only-of-type {\n",
       "        vertical-align: middle;\n",
       "    }\n",
       "\n",
       "    .dataframe tbody tr th {\n",
       "        vertical-align: top;\n",
       "    }\n",
       "\n",
       "    .dataframe thead th {\n",
       "        text-align: right;\n",
       "    }\n",
       "</style>\n",
       "<table border=\"1\" class=\"dataframe\">\n",
       "  <thead>\n",
       "    <tr style=\"text-align: right;\">\n",
       "      <th></th>\n",
       "      <th>species</th>\n",
       "      <th>size</th>\n",
       "      <th>fragrance</th>\n",
       "      <th>height_cm</th>\n",
       "    </tr>\n",
       "  </thead>\n",
       "  <tbody>\n",
       "    <tr>\n",
       "      <th>9995</th>\n",
       "      <td>hibiscus</td>\n",
       "      <td>large</td>\n",
       "      <td>none</td>\n",
       "      <td>109.52</td>\n",
       "    </tr>\n",
       "    <tr>\n",
       "      <th>9996</th>\n",
       "      <td>shoeblack plant</td>\n",
       "      <td>medium</td>\n",
       "      <td>mild</td>\n",
       "      <td>145.23</td>\n",
       "    </tr>\n",
       "    <tr>\n",
       "      <th>9997</th>\n",
       "      <td>hibiscus</td>\n",
       "      <td>large</td>\n",
       "      <td>none</td>\n",
       "      <td>126.69</td>\n",
       "    </tr>\n",
       "    <tr>\n",
       "      <th>9998</th>\n",
       "      <td>shoeblack plant</td>\n",
       "      <td>large</td>\n",
       "      <td>none</td>\n",
       "      <td>77.62</td>\n",
       "    </tr>\n",
       "    <tr>\n",
       "      <th>9999</th>\n",
       "      <td>rose</td>\n",
       "      <td>medium</td>\n",
       "      <td>mild</td>\n",
       "      <td>88.11</td>\n",
       "    </tr>\n",
       "  </tbody>\n",
       "</table>\n",
       "</div>"
      ],
      "text/plain": [
       "              species    size fragrance  height_cm\n",
       "9995         hibiscus   large      none     109.52\n",
       "9996  shoeblack plant  medium      mild     145.23\n",
       "9997         hibiscus   large      none     126.69\n",
       "9998  shoeblack plant   large      none      77.62\n",
       "9999             rose  medium      mild      88.11"
      ]
     },
     "execution_count": 8,
     "metadata": {},
     "output_type": "execute_result"
    }
   ],
   "source": [
    "df.tail()\n"
   ]
  },
  {
   "cell_type": "code",
   "execution_count": 9,
   "id": "72de4ad9-2c03-4a1e-ab62-77afb2c3093c",
   "metadata": {},
   "outputs": [
    {
     "data": {
      "text/html": [
       "<div>\n",
       "<style scoped>\n",
       "    .dataframe tbody tr th:only-of-type {\n",
       "        vertical-align: middle;\n",
       "    }\n",
       "\n",
       "    .dataframe tbody tr th {\n",
       "        vertical-align: top;\n",
       "    }\n",
       "\n",
       "    .dataframe thead th {\n",
       "        text-align: right;\n",
       "    }\n",
       "</style>\n",
       "<table border=\"1\" class=\"dataframe\">\n",
       "  <thead>\n",
       "    <tr style=\"text-align: right;\">\n",
       "      <th></th>\n",
       "      <th>height_cm</th>\n",
       "    </tr>\n",
       "  </thead>\n",
       "  <tbody>\n",
       "    <tr>\n",
       "      <th>count</th>\n",
       "      <td>10000.000000</td>\n",
       "    </tr>\n",
       "    <tr>\n",
       "      <th>mean</th>\n",
       "      <td>104.873938</td>\n",
       "    </tr>\n",
       "    <tr>\n",
       "      <th>std</th>\n",
       "      <td>43.635191</td>\n",
       "    </tr>\n",
       "    <tr>\n",
       "      <th>min</th>\n",
       "      <td>30.090000</td>\n",
       "    </tr>\n",
       "    <tr>\n",
       "      <th>25%</th>\n",
       "      <td>69.307500</td>\n",
       "    </tr>\n",
       "    <tr>\n",
       "      <th>50%</th>\n",
       "      <td>100.510000</td>\n",
       "    </tr>\n",
       "    <tr>\n",
       "      <th>75%</th>\n",
       "      <td>137.022500</td>\n",
       "    </tr>\n",
       "    <tr>\n",
       "      <th>max</th>\n",
       "      <td>199.970000</td>\n",
       "    </tr>\n",
       "  </tbody>\n",
       "</table>\n",
       "</div>"
      ],
      "text/plain": [
       "          height_cm\n",
       "count  10000.000000\n",
       "mean     104.873938\n",
       "std       43.635191\n",
       "min       30.090000\n",
       "25%       69.307500\n",
       "50%      100.510000\n",
       "75%      137.022500\n",
       "max      199.970000"
      ]
     },
     "execution_count": 9,
     "metadata": {},
     "output_type": "execute_result"
    }
   ],
   "source": [
    "df.describe()\n"
   ]
  },
  {
   "cell_type": "code",
   "execution_count": 10,
   "id": "a2bc6dae-e8c2-43df-8d9a-6664c475d01b",
   "metadata": {},
   "outputs": [
    {
     "data": {
      "image/png": "[encoded data removed]",
      "text/plain": [
       "<Figure size 1000x600 with 1 Axes>"
      ]
     },
     "metadata": {},
     "output_type": "display_data"
    }
   ],
   "source": [
    "plt.figure(figsize=(10, 6))\n",
    "sns.histplot(data=df, x=\"height_cm\", kde=True)\n",
    "plt.title(\"Height Distribution\")\n",
    "plt.show()"
   ]
  },
  {
   "cell_type": "code",
   "execution_count": 11,
   "id": "c39fae14-c3bf-42fb-8ef1-c3fa9b839a1d",
   "metadata": {},
   "outputs": [
    {
     "data": {
      "image/png": "[encoded data removed]",
      "text/plain": [
       "<Figure size 287.986x250 with 2 Axes>"
      ]
     },
     "metadata": {},
     "output_type": "display_data"
    }
   ],
   "source": [
    "# Plotting the features\n",
    "sns.pairplot(df, hue='size')\n",
    "plt.show()"
   ]
  },
  {
   "cell_type": "code",
   "execution_count": 12,
   "id": "a47d2212-829f-4836-80bc-d69126864d73",
   "metadata": {},
   "outputs": [
    {
     "data": {
      "image/png": "[encoded data removed]",
      "text/plain": [
       "<Figure size 1000x600 with 1 Axes>"
      ]
     },
     "metadata": {},
     "output_type": "display_data"
    }
   ],
   "source": [
    "plt.figure(figsize=(10, 6))\n",
    "sns.scatterplot(data=df, x='size', y='height_cm', hue='size')\n",
    "plt.title('Height vs Size')\n",
    "plt.show()"
   ]
  },
  {
   "cell_type": "markdown",
   "id": "41e1597b-5cd9-4e64-9cfd-8949fe1b7b21",
   "metadata": {},
   "source": [
    "### plt.figure(figsize=(10, 6))\n",
    "sns.countplot(x='size', data=df)\n",
    "plt.title('Length of size')\n",
    "plt.show()"
   ]
  },
  {
   "cell_type": "code",
   "execution_count": 14,
   "id": "b6898273-c7d3-4b81-a31e-49e3fb931f15",
   "metadata": {},
   "outputs": [
    {
     "name": "stdout",
     "output_type": "stream",
     "text": [
      "\n",
      "Insights:\n",
      "1. Dataset shape: (10000, 4)\n",
      "2. Missing values:\n",
      " species      0\n",
      "size         0\n",
      "fragrance    0\n",
      "height_cm    0\n",
      "dtype: int64\n",
      "3. Descriptive statistics:\n",
      "           height_cm\n",
      "count  10000.000000\n",
      "mean     104.873938\n",
      "std       43.635191\n",
      "min       30.090000\n",
      "25%       69.307500\n",
      "50%      100.510000\n",
      "75%      137.022500\n",
      "max      199.970000\n",
      "4. The height distribution plot shows the distribution of flower heights.\n",
      "5. Further insights can be added based on specific observations from the data and visualizations.\n"
     ]
    }
   ],
   "source": [
    "print(\"\\nInsights:\")\n",
    "print(\"1. Dataset shape:\", df.shape)\n",
    "print(\"2. Missing values:\\n\", missing_count)\n",
    "print(\"3. Descriptive statistics:\\n\", df.describe())\n",
    "print(\"4. The height distribution plot shows the distribution of flower heights.\")\n",
    "print(\"5. Further insights can be added based on specific observations from the data and visualizations.\")"
   ]
  },
  {
   "cell_type": "code",
   "execution_count": null,
   "id": "1bebf096-c842-42f9-8af8-dd0ae34d1257",
   "metadata": {},
   "outputs": [],
   "source": []
  }
 ],
 "metadata": {
  "kernelspec": {
   "display_name": "Python 3 (ipykernel)",
   "language": "python",
   "name": "python3"
  },
  "language_info": {
   "codemirror_mode": {
    "name": "ipython",
    "version": 3
   },
   "file_extension": ".py",
   "mimetype": "text/x-python",
   "name": "python",
   "nbconvert_exporter": "python",
   "pygments_lexer": "ipython3",
   "version": "3.12.5"
  }
 },
 "nbformat": 4,
 "nbformat_minor": 5
}
